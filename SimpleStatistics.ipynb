{
 "cells": [
  {
   "cell_type": "code",
   "execution_count": 16,
   "metadata": {},
   "outputs": [],
   "source": [
    "import pandas as pd\n",
    "import numpy as np\n",
    "import matplotlib.pyplot as plt\n",
    "import matplotlib.markers as mrk\n",
    "from scipy.stats import ttest_ind\n",
    "from scipy.stats import mannwhitneyu\n",
    "from scipy.stats import shapiro\n",
    "from scipy.stats import levene\n"
   ]
  },
  {
   "cell_type": "code",
   "execution_count": 23,
   "metadata": {},
   "outputs": [],
   "source": [
    "def DoStatsUnpaired(data1,data2,alpha=0.05):\n",
    "\n",
    "\n",
    "    \"\"\"\n",
    "    DoStatsUnpaired automaticaly checks normal distribution with shapiro and does testing on unrelated groups, for example\n",
    "    the same croptype, but from different fields, by same conditions.\n",
    "    \"\"\"\n",
    "    #alpha = 0.05\n",
    "    stat, p = shapiro(data1) \n",
    "    stat1, p2 = shapiro(data2)\n",
    "    stat2, p3 = levene(data1,data2)\n",
    "    \n",
    "    if p > alpha and p2 > alpha and p3 > alpha:\n",
    "        print(\"shapiro test {:.2} {:.2} > alpha {:.2} - normal distributed -> p {:.2} of levene test not significant -variance homogeneity assured, going parametric (T-Test unpaired)\".format(p,p2,alpha,p3))\n",
    "        from scipy.stats import ttest_ind\n",
    "        stat, p = ttest_ind(data1, data2)\n",
    "        if p > alpha:\n",
    "            print('Same distribution p{:.2} > {:.2} not significant (fail to reject H0)'.format(p,alpha))\n",
    "        else:\n",
    "            print('Different distribution p{:.2} < {:.2} significant, one group is bigger than the other (reject H0)'.format(p,alpha)) \n",
    "    else:\n",
    "        #hey hier mehr elif einbauen, momentan keine richtige differenzierung zwischen normal dist und levene!\n",
    "        print(\"shapiro test {:.2} or {:.2} < alpha {:.2} - not normal distributed -> p {:.2} of levene test significant! - variance homogeneity not given going non parametric(mannwhitneyu test)\".format(p,p2,alpha,p3))\n",
    "        from scipy.stats import mannwhitneyu\n",
    "        stat, p = mannwhitneyu(data1,data2)\n",
    "        if p > alpha:\n",
    "            print('Same distribution p {:.2} > {:.2} not significant (fail to reject H0)Stat:{}'.format(p,alpha,stat))\n",
    "        else:\n",
    "            print('Different distribution p {:.2} < {:.2} significant, one group is bigger than the other (reject H0)Stat:{}'.format(p,alpha,stat)) \n",
    "    data = [data1,data2]\n",
    "    plt.figure(figsize=(9,8))\n",
    "    bp_dict=plt.boxplot(data,labels=(data1.name, data2.name), showmeans=True, meanline=True, notch=True, bootstrap=1000)\n",
    "    for line in bp_dict['medians']:\n",
    "        # get position data for median line\n",
    "        \n",
    "        x, y = line.get_xydata()[1] # top of median line\n",
    "        # overlay median value\n",
    "        plt.text(x,y,round(y,2), horizontalalignment='left') # draw above, centered\n",
    "    for line in bp_dict['means']:\n",
    "        # get position data for mean line\n",
    "        x, y = line.get_xydata()[0] # top of mean line\n",
    "        # overlay mean value\n",
    "        plt.text(x,y-0.01,round(y,2),horizontalalignment='right') # draw above, centered\n",
    "    #plt.legend(['mean',\"median\"], loc='upper right')\n",
    "    #This code is totally not good, but works:\n",
    "    plt.plot([],linestyle=\"--\",marker=None, color='#2ca02c', label='mean')\n",
    "    plt.plot([],linestyle='-', color='#ff881f', label='median')\n",
    "    plt.legend()\n",
    "    plt.show()"
   ]
  },
  {
   "cell_type": "code",
   "execution_count": 31,
   "metadata": {},
   "outputs": [
    {
     "name": "stdout",
     "output_type": "stream",
     "text": [
      "0.925 0.71425\n",
      "1.925 0.60655\n"
     ]
    },
    {
     "data": {
      "image/png": "[encoded data removed]",
      "text/plain": [
       "<Figure size 432x288 with 1 Axes>"
      ]
     },
     "metadata": {},
     "output_type": "display_data"
    },
    {
     "name": "stdout",
     "output_type": "stream",
     "text": [
      "1.0 57.9\n",
      "2.0 61.95\n"
     ]
    },
    {
     "data": {
      "image/png": "[encoded data removed]",
      "text/plain": [
       "<Figure size 432x288 with 1 Axes>"
      ]
     },
     "metadata": {},
     "output_type": "display_data"
    }
   ],
   "source": [
    "##Parameter Testing, choosed to only manipulate x-axis because of same value space.\n",
    "## measurements for y would be more complicated because for  boxplots its a axis with variance.\n",
    "data1,data2=df.Weight_KG_Conv,df.Weight_KG_Bio\n",
    "data = [df.Weight_KG_Conv,df.Weight_KG_Bio]\n",
    "bp_dict=plt.boxplot(data,labels=(data1.name, data2.name), showmeans=True, meanline=True, notch=True, bootstrap=1000)\n",
    "\n",
    "for line in bp_dict['means']:\n",
    "        # get position data for mean line\n",
    "        x, y = line.get_xydata()[0] # top of mean line\n",
    "        plt.text(x-0.01,y,round(y,2),horizontalalignment='right')\n",
    "        print(x,y)\n",
    "plt.show()\n",
    "\n",
    "data1,data2=df.Height_CM_Conv,df.Height_CM_Bio\n",
    "data = [df.Height_CM_Conv,df.Height_CM_Bio]\n",
    "bp_dict=plt.boxplot(data,labels=(data1.name, data2.name), showmeans=True, meanline=False, notch=True, bootstrap=1000)\n",
    "\n",
    "for line in bp_dict['means']:\n",
    "        # get position data for mean line\n",
    "        x, y = line.get_xydata()[0] # top of mean line\n",
    "        plt.text(x,y+0.8,round(y,2),horizontalalignment='center')\n",
    "        print(x,y)\n",
    "plt.show()"
   ]
  },
  {
   "cell_type": "code",
   "execution_count": 71,
   "metadata": {},
   "outputs": [],
   "source": [
    "#Not as up to date as unpaired, sorry future me.\n",
    "def DoStatsPaired(data1,data2,alpha = 0.05):\n",
    "    \"\"\"\n",
    "    DoStatsPaired automaticaly checks normal distribution with shapiro and does paired testing, for example\n",
    "    the same persons groups, but on different time.\n",
    "    \"\"\"\n",
    "    \n",
    "    from scipy.stats import ttest_ind\n",
    "    from scipy.stats import mannwhitneyu\n",
    "    \n",
    "    stat, p = shapiro(data1) \n",
    "    stat1, p2 = shapiro(data2)\n",
    "\n",
    "    if p > alpha and p2 > alpha:\n",
    "        print(\"shapiro test {:.2} {:.2} > alpha {:.2} -> normal distributed, going parametric (T-Test paired)\".format(p,p2,alpha))\n",
    "        from scipy.stats import ttest_rel\n",
    "        stat, p = ttest_rel(data1, data2)\n",
    "        if p > alpha:\n",
    "            print('Same distribution p{:.2} > {:.2} not significant (fail to reject H0)'.format(p,alpha))\n",
    "        else:\n",
    "            print('Different distribution p{:.2} < {:.2} significant, one group is bigger than the other (reject H0)'.format(p,alpha)) \n",
    "    else:\n",
    "        print(\"shapiro test {:.2} or {:.2} < alpha {:.2} -> not normal distributed, going non parametric(wilcoxon test (paired))\".format(p,p2,alpha))\n",
    "        from scipy.stats import wilcoxon\n",
    "        stat, p = wilcoxon(data1, data2)\n",
    "        if p > alpha:\n",
    "            print('Same distribution p {:.2} > {:.2} not significant (fail to reject H0) Stat:{}'.format(p,alpha,stat))\n",
    "        else:\n",
    "            print('Different distribution p {:.2} < {:.2} significant, one group is bigger than the other (reject H0)Stat:{}'.format(p,alpha,stat))\n",
    "    \n",
    "    #df.boxplot(column=[data1.name, data2.name], figsize=(10,10),showmeans=True,notch=False)\n",
    "    data= [data1,data2]\n",
    "    plt.figure(figsize=(10,10))\n",
    "    bp_dict=plt.boxplot(data,labels=(data1.name, data2.name), showmeans=True, meanline=False, notch=True, bootstrap=1000)\n",
    "    for line in bp_dict['medians']:\n",
    "        # get position data for median line\n",
    "        \n",
    "        x, y = line.get_xydata()[1] # top of median line\n",
    "        # overlay median value\n",
    "        plt.text(x+0.01,y,round(y,2), horizontalalignment='left') # draw above, centered\n",
    "    for line in bp_dict['means']:\n",
    "        # get position data for median line\n",
    "        x, y = line.get_xydata()[0] # top of median line\n",
    "        # overlay median value\n",
    "        plt.text(x,y+0.015,round(y,2),horizontalalignment='center') # draw above, centered\n",
    "    plt.show()"
   ]
  },
  {
   "cell_type": "code",
   "execution_count": 4,
   "metadata": {},
   "outputs": [],
   "source": [
    "df = pd.read_csv(\"plant_data.csv\",sep=\";\",decimal=\",\")"
   ]
  },
  {
   "cell_type": "code",
   "execution_count": null,
   "metadata": {},
   "outputs": [],
   "source": [
    "#df=df.drop(columns=\"Unnamed: 5\")"
   ]
  },
  {
   "cell_type": "code",
   "execution_count": 5,
   "metadata": {
    "scrolled": true
   },
   "outputs": [
    {
     "data": {
      "text/html": [
       "<div>\n",
       "<style scoped>\n",
       "    .dataframe tbody tr th:only-of-type {\n",
       "        vertical-align: middle;\n",
       "    }\n",
       "\n",
       "    .dataframe tbody tr th {\n",
       "        vertical-align: top;\n",
       "    }\n",
       "\n",
       "    .dataframe thead th {\n",
       "        text-align: right;\n",
       "    }\n",
       "</style>\n",
       "<table border=\"1\" class=\"dataframe\">\n",
       "  <thead>\n",
       "    <tr style=\"text-align: right;\">\n",
       "      <th></th>\n",
       "      <th>Höhe in cm konventionell</th>\n",
       "      <th>Höhe in cm ökologisch</th>\n",
       "      <th>Höhe in cm konventionell Tag 2</th>\n",
       "      <th>Höhe in cm ökologisch Tag 2</th>\n",
       "      <th>Gewicht in Kg konventionell</th>\n",
       "      <th>Gewicht in Kg ökologisch</th>\n",
       "      <th>Gewicht in Kg ökologisch (inkl. Unkräuter)</th>\n",
       "      <th>Weed_Conv</th>\n",
       "      <th>Weed_Bio</th>\n",
       "      <th>Cover_Perc_Konv</th>\n",
       "      <th>Cover_Perc_Bio</th>\n",
       "    </tr>\n",
       "  </thead>\n",
       "  <tbody>\n",
       "    <tr>\n",
       "      <th>0</th>\n",
       "      <td>70</td>\n",
       "      <td>62</td>\n",
       "      <td>86</td>\n",
       "      <td>77</td>\n",
       "      <td>1.105</td>\n",
       "      <td>0.590</td>\n",
       "      <td>0.6195</td>\n",
       "      <td>0</td>\n",
       "      <td>4</td>\n",
       "      <td>90</td>\n",
       "      <td>75</td>\n",
       "    </tr>\n",
       "    <tr>\n",
       "      <th>1</th>\n",
       "      <td>65</td>\n",
       "      <td>65</td>\n",
       "      <td>62</td>\n",
       "      <td>77</td>\n",
       "      <td>0.825</td>\n",
       "      <td>0.685</td>\n",
       "      <td>0.7145</td>\n",
       "      <td>0</td>\n",
       "      <td>4</td>\n",
       "      <td>50</td>\n",
       "      <td>75</td>\n",
       "    </tr>\n",
       "    <tr>\n",
       "      <th>2</th>\n",
       "      <td>65</td>\n",
       "      <td>64</td>\n",
       "      <td>68</td>\n",
       "      <td>77</td>\n",
       "      <td>0.690</td>\n",
       "      <td>0.490</td>\n",
       "      <td>0.5195</td>\n",
       "      <td>0</td>\n",
       "      <td>3</td>\n",
       "      <td>50</td>\n",
       "      <td>75</td>\n",
       "    </tr>\n",
       "    <tr>\n",
       "      <th>3</th>\n",
       "      <td>57</td>\n",
       "      <td>63</td>\n",
       "      <td>67</td>\n",
       "      <td>70</td>\n",
       "      <td>0.835</td>\n",
       "      <td>0.530</td>\n",
       "      <td>0.5595</td>\n",
       "      <td>0</td>\n",
       "      <td>3</td>\n",
       "      <td>75</td>\n",
       "      <td>75</td>\n",
       "    </tr>\n",
       "    <tr>\n",
       "      <th>4</th>\n",
       "      <td>60</td>\n",
       "      <td>60</td>\n",
       "      <td>74</td>\n",
       "      <td>70</td>\n",
       "      <td>0.845</td>\n",
       "      <td>0.685</td>\n",
       "      <td>0.7145</td>\n",
       "      <td>1</td>\n",
       "      <td>5</td>\n",
       "      <td>75</td>\n",
       "      <td>75</td>\n",
       "    </tr>\n",
       "  </tbody>\n",
       "</table>\n",
       "</div>"
      ],
      "text/plain": [
       "   Höhe in cm konventionell  Höhe in cm ökologisch  \\\n",
       "0                        70                     62   \n",
       "1                        65                     65   \n",
       "2                        65                     64   \n",
       "3                        57                     63   \n",
       "4                        60                     60   \n",
       "\n",
       "   Höhe in cm konventionell Tag 2  Höhe in cm ökologisch Tag 2  \\\n",
       "0                              86                           77   \n",
       "1                              62                           77   \n",
       "2                              68                           77   \n",
       "3                              67                           70   \n",
       "4                              74                           70   \n",
       "\n",
       "   Gewicht in Kg konventionell   Gewicht in Kg ökologisch  \\\n",
       "0                         1.105                     0.590   \n",
       "1                         0.825                     0.685   \n",
       "2                         0.690                     0.490   \n",
       "3                         0.835                     0.530   \n",
       "4                         0.845                     0.685   \n",
       "\n",
       "   Gewicht in Kg ökologisch (inkl. Unkräuter)  Weed_Conv  Weed_Bio  \\\n",
       "0                                      0.6195          0         4   \n",
       "1                                      0.7145          0         4   \n",
       "2                                      0.5195          0         3   \n",
       "3                                      0.5595          0         3   \n",
       "4                                      0.7145          1         5   \n",
       "\n",
       "   Cover_Perc_Konv  Cover_Perc_Bio   \n",
       "0               90               75  \n",
       "1               50               75  \n",
       "2               50               75  \n",
       "3               75               75  \n",
       "4               75               75  "
      ]
     },
     "execution_count": 5,
     "metadata": {},
     "output_type": "execute_result"
    }
   ],
   "source": [
    "df.head()"
   ]
  },
  {
   "cell_type": "code",
   "execution_count": 6,
   "metadata": {},
   "outputs": [],
   "source": [
    "df.plot.bar?"
   ]
  },
  {
   "cell_type": "code",
   "execution_count": 7,
   "metadata": {},
   "outputs": [
    {
     "data": {
      "text/plain": [
       "<matplotlib.axes._subplots.AxesSubplot at 0x7f144a91dd30>"
      ]
     },
     "execution_count": 7,
     "metadata": {},
     "output_type": "execute_result"
    },
    {
     "data": {
      "image/png": "[encoded data removed]",
      "text/plain": [
       "<Figure size 432x288 with 1 Axes>"
      ]
     },
     "metadata": {},
     "output_type": "display_data"
    }
   ],
   "source": [
    "\n",
    "df[[\"Weed_Bio\",\"Weed_Conv\"]].sum().plot.bar(rot=0)"
   ]
  },
  {
   "cell_type": "code",
   "execution_count": 8,
   "metadata": {
    "scrolled": true
   },
   "outputs": [
    {
     "data": {
      "text/html": [
       "<div>\n",
       "<style scoped>\n",
       "    .dataframe tbody tr th:only-of-type {\n",
       "        vertical-align: middle;\n",
       "    }\n",
       "\n",
       "    .dataframe tbody tr th {\n",
       "        vertical-align: top;\n",
       "    }\n",
       "\n",
       "    .dataframe thead th {\n",
       "        text-align: right;\n",
       "    }\n",
       "</style>\n",
       "<table border=\"1\" class=\"dataframe\">\n",
       "  <thead>\n",
       "    <tr style=\"text-align: right;\">\n",
       "      <th></th>\n",
       "      <th>Höhe in cm konventionell</th>\n",
       "      <th>Höhe in cm ökologisch</th>\n",
       "      <th>Höhe in cm konventionell Tag 2</th>\n",
       "      <th>Höhe in cm ökologisch Tag 2</th>\n",
       "      <th>Gewicht in Kg konventionell</th>\n",
       "      <th>Gewicht in Kg ökologisch</th>\n",
       "      <th>Gewicht in Kg ökologisch (inkl. Unkräuter)</th>\n",
       "      <th>Weed_Conv</th>\n",
       "      <th>Weed_Bio</th>\n",
       "      <th>Cover_Perc_Konv</th>\n",
       "      <th>Cover_Perc_Bio</th>\n",
       "    </tr>\n",
       "  </thead>\n",
       "  <tbody>\n",
       "    <tr>\n",
       "      <th>count</th>\n",
       "      <td>20.000000</td>\n",
       "      <td>20.000000</td>\n",
       "      <td>20.000000</td>\n",
       "      <td>20.000000</td>\n",
       "      <td>20.000000</td>\n",
       "      <td>20.000000</td>\n",
       "      <td>20.000000</td>\n",
       "      <td>20.000000</td>\n",
       "      <td>20.000000</td>\n",
       "      <td>20.000000</td>\n",
       "      <td>20.000000</td>\n",
       "    </tr>\n",
       "    <tr>\n",
       "      <th>mean</th>\n",
       "      <td>57.900000</td>\n",
       "      <td>61.950000</td>\n",
       "      <td>70.100000</td>\n",
       "      <td>77.500000</td>\n",
       "      <td>0.714250</td>\n",
       "      <td>0.606550</td>\n",
       "      <td>0.636050</td>\n",
       "      <td>0.200000</td>\n",
       "      <td>3.000000</td>\n",
       "      <td>71.000000</td>\n",
       "      <td>72.000000</td>\n",
       "    </tr>\n",
       "    <tr>\n",
       "      <th>std</th>\n",
       "      <td>8.391098</td>\n",
       "      <td>4.260899</td>\n",
       "      <td>9.475175</td>\n",
       "      <td>4.123106</td>\n",
       "      <td>0.250732</td>\n",
       "      <td>0.126907</td>\n",
       "      <td>0.126907</td>\n",
       "      <td>0.523148</td>\n",
       "      <td>1.256562</td>\n",
       "      <td>13.533584</td>\n",
       "      <td>10.052494</td>\n",
       "    </tr>\n",
       "    <tr>\n",
       "      <th>min</th>\n",
       "      <td>45.000000</td>\n",
       "      <td>52.000000</td>\n",
       "      <td>54.000000</td>\n",
       "      <td>70.000000</td>\n",
       "      <td>0.340000</td>\n",
       "      <td>0.395000</td>\n",
       "      <td>0.424500</td>\n",
       "      <td>0.000000</td>\n",
       "      <td>1.000000</td>\n",
       "      <td>50.000000</td>\n",
       "      <td>50.000000</td>\n",
       "    </tr>\n",
       "    <tr>\n",
       "      <th>25%</th>\n",
       "      <td>52.750000</td>\n",
       "      <td>60.000000</td>\n",
       "      <td>65.000000</td>\n",
       "      <td>76.500000</td>\n",
       "      <td>0.578750</td>\n",
       "      <td>0.533750</td>\n",
       "      <td>0.563250</td>\n",
       "      <td>0.000000</td>\n",
       "      <td>2.000000</td>\n",
       "      <td>68.750000</td>\n",
       "      <td>75.000000</td>\n",
       "    </tr>\n",
       "    <tr>\n",
       "      <th>50%</th>\n",
       "      <td>56.000000</td>\n",
       "      <td>61.000000</td>\n",
       "      <td>68.000000</td>\n",
       "      <td>78.000000</td>\n",
       "      <td>0.637500</td>\n",
       "      <td>0.585000</td>\n",
       "      <td>0.614500</td>\n",
       "      <td>0.000000</td>\n",
       "      <td>3.000000</td>\n",
       "      <td>75.000000</td>\n",
       "      <td>75.000000</td>\n",
       "    </tr>\n",
       "    <tr>\n",
       "      <th>75%</th>\n",
       "      <td>63.250000</td>\n",
       "      <td>65.000000</td>\n",
       "      <td>74.500000</td>\n",
       "      <td>80.000000</td>\n",
       "      <td>0.831250</td>\n",
       "      <td>0.673750</td>\n",
       "      <td>0.703250</td>\n",
       "      <td>0.000000</td>\n",
       "      <td>4.000000</td>\n",
       "      <td>75.000000</td>\n",
       "      <td>75.000000</td>\n",
       "    </tr>\n",
       "    <tr>\n",
       "      <th>max</th>\n",
       "      <td>80.000000</td>\n",
       "      <td>70.000000</td>\n",
       "      <td>93.000000</td>\n",
       "      <td>83.000000</td>\n",
       "      <td>1.425000</td>\n",
       "      <td>0.890000</td>\n",
       "      <td>0.919500</td>\n",
       "      <td>2.000000</td>\n",
       "      <td>6.000000</td>\n",
       "      <td>90.000000</td>\n",
       "      <td>90.000000</td>\n",
       "    </tr>\n",
       "  </tbody>\n",
       "</table>\n",
       "</div>"
      ],
      "text/plain": [
       "       Höhe in cm konventionell  Höhe in cm ökologisch  \\\n",
       "count                 20.000000              20.000000   \n",
       "mean                  57.900000              61.950000   \n",
       "std                    8.391098               4.260899   \n",
       "min                   45.000000              52.000000   \n",
       "25%                   52.750000              60.000000   \n",
       "50%                   56.000000              61.000000   \n",
       "75%                   63.250000              65.000000   \n",
       "max                   80.000000              70.000000   \n",
       "\n",
       "       Höhe in cm konventionell Tag 2  Höhe in cm ökologisch Tag 2  \\\n",
       "count                       20.000000                    20.000000   \n",
       "mean                        70.100000                    77.500000   \n",
       "std                          9.475175                     4.123106   \n",
       "min                         54.000000                    70.000000   \n",
       "25%                         65.000000                    76.500000   \n",
       "50%                         68.000000                    78.000000   \n",
       "75%                         74.500000                    80.000000   \n",
       "max                         93.000000                    83.000000   \n",
       "\n",
       "       Gewicht in Kg konventionell   Gewicht in Kg ökologisch  \\\n",
       "count                     20.000000                 20.000000   \n",
       "mean                       0.714250                  0.606550   \n",
       "std                        0.250732                  0.126907   \n",
       "min                        0.340000                  0.395000   \n",
       "25%                        0.578750                  0.533750   \n",
       "50%                        0.637500                  0.585000   \n",
       "75%                        0.831250                  0.673750   \n",
       "max                        1.425000                  0.890000   \n",
       "\n",
       "       Gewicht in Kg ökologisch (inkl. Unkräuter)  Weed_Conv   Weed_Bio  \\\n",
       "count                                   20.000000  20.000000  20.000000   \n",
       "mean                                     0.636050   0.200000   3.000000   \n",
       "std                                      0.126907   0.523148   1.256562   \n",
       "min                                      0.424500   0.000000   1.000000   \n",
       "25%                                      0.563250   0.000000   2.000000   \n",
       "50%                                      0.614500   0.000000   3.000000   \n",
       "75%                                      0.703250   0.000000   4.000000   \n",
       "max                                      0.919500   2.000000   6.000000   \n",
       "\n",
       "       Cover_Perc_Konv  Cover_Perc_Bio   \n",
       "count        20.000000        20.000000  \n",
       "mean         71.000000        72.000000  \n",
       "std          13.533584        10.052494  \n",
       "min          50.000000        50.000000  \n",
       "25%          68.750000        75.000000  \n",
       "50%          75.000000        75.000000  \n",
       "75%          75.000000        75.000000  \n",
       "max          90.000000        90.000000  "
      ]
     },
     "execution_count": 8,
     "metadata": {},
     "output_type": "execute_result"
    }
   ],
   "source": [
    "df.describe(include='all')"
   ]
  },
  {
   "cell_type": "code",
   "execution_count": 9,
   "metadata": {
    "scrolled": true
   },
   "outputs": [
    {
     "name": "stdout",
     "output_type": "stream",
     "text": [
      "Höhe in cm konventionell is normal distributed 0.344+\n",
      "Höhe in cm ökologisch is normal distributed 0.444+\n",
      "Höhe in cm konventionell Tag 2 is normal distributed 0.555+\n",
      "Höhe in cm ökologisch Tag 2 is not normal distributed 0.0481-\n",
      "Gewicht in Kg konventionell  is not normal distributed 0.0387-\n",
      "Gewicht in Kg ökologisch is normal distributed 0.206+\n",
      "Gewicht in Kg ökologisch (inkl. Unkräuter) is normal distributed 0.206+\n",
      "Weed_Conv is not normal distributed 1.09e-07-\n",
      "Weed_Bio is not normal distributed 0.0329-\n",
      "Cover_Perc_Konv is not normal distributed 0.000238-\n",
      "Cover_Perc_Bio  is not normal distributed 1.84e-06-\n"
     ]
    }
   ],
   "source": [
    "for key,value in df.iteritems():\n",
    "    stat, p = shapiro(value)\n",
    "    alpha = 0.05\n",
    "    if p > alpha:\n",
    "        print('{} is normal distributed {:.3}+'.format(value.name,p ))\n",
    "    else:\n",
    "        print('{} is not normal distributed {:.3}-'.format(value.name,p ))"
   ]
  },
  {
   "cell_type": "code",
   "execution_count": 24,
   "metadata": {
    "scrolled": false
   },
   "outputs": [
    {
     "name": "stdout",
     "output_type": "stream",
     "text": [
      "shapiro test 0.039 or 0.21 < alpha 0.05 - not normal distributed -> p 0.094 of levene test significant! - variance homogeneity not given going non parametric(mannwhitneyu test)\n",
      "Same distribution p 0.16 > 0.05 not significant (fail to reject H0)Stat:163.0\n"
     ]
    },
    {
     "data": {
      "image/png": "[encoded data removed]",
      "text/plain": [
       "<Figure size 648x576 with 1 Axes>"
      ]
     },
     "metadata": {},
     "output_type": "display_data"
    }
   ],
   "source": [
    "DoStatsUnpaired(df['Gewicht in Kg konventionell '],df['Gewicht in Kg ökologisch (inkl. Unkräuter)'],0.05)"
   ]
  },
  {
   "cell_type": "code",
   "execution_count": 11,
   "metadata": {
    "scrolled": false
   },
   "outputs": [
    {
     "name": "stdout",
     "output_type": "stream",
     "text": [
      "shapiro test 0.039 or 0.21 < alpha 0.05 -> not normal distributed, going non parametric(mannwhitneyu test)\n",
      "Same distribution p 0.065 > 0.05 not significant (fail to reject H0)Stat:143.5\n"
     ]
    },
    {
     "data": {
      "image/png": "[encoded data removed]",
      "text/plain": [
       "<Figure size 648x576 with 1 Axes>"
      ]
     },
     "metadata": {},
     "output_type": "display_data"
    }
   ],
   "source": [
    "DoStatsUnpaired(df['Gewicht in Kg konventionell '],df['Gewicht in Kg ökologisch'],0.05)"
   ]
  },
  {
   "cell_type": "code",
   "execution_count": 12,
   "metadata": {
    "scrolled": true
   },
   "outputs": [
    {
     "name": "stdout",
     "output_type": "stream",
     "text": [
      "shapiro test 0.34 or 0.44 < alpha 0.05 -> not normal distributed, going non parametric(mannwhitneyu test)\n",
      "Different distribution p 0.017 < 0.05 significant, one group is bigger than the other (reject H0)Stat:121.5\n"
     ]
    },
    {
     "data": {
      "image/png": "[encoded data removed]",
      "text/plain": [
       "<Figure size 648x576 with 1 Axes>"
      ]
     },
     "metadata": {},
     "output_type": "display_data"
    }
   ],
   "source": [
    "#DoStatsUnpaired(df.Height_CM_Conv,df.Height_CM_Bio,0.05)\n",
    "DoStatsUnpaired(df[\"Höhe in cm konventionell\"],df[\"Höhe in cm ökologisch\"],0.05)"
   ]
  },
  {
   "cell_type": "code",
   "execution_count": 109,
   "metadata": {},
   "outputs": [
    {
     "name": "stdout",
     "output_type": "stream",
     "text": [
      "shapiro test 0.56 or 0.048 < alpha 0.05 -> not normal distributed, going non parametric(mannwhitneyu test)\n",
      "Different distribution p 0.00054 < 0.05 significant, one group is bigger than the other (reject H0)Stat:79.0\n"
     ]
    },
    {
     "data": {
      "image/png": "[encoded data removed]",
      "text/plain": [
       "<Figure size 648x576 with 1 Axes>"
      ]
     },
     "metadata": {},
     "output_type": "display_data"
    }
   ],
   "source": [
    "#DoStatsUnpaired(df.Height_CM_Conv_Day2,df.Height_CM_Bio_Day2,0.05)\n",
    "DoStatsUnpaired(df[\"Höhe in cm konventionell Tag 2\"],df[\"Höhe in cm ökologisch Tag 2\"],0.05)"
   ]
  },
  {
   "cell_type": "code",
   "execution_count": null,
   "metadata": {},
   "outputs": [],
   "source": []
  },
  {
   "cell_type": "code",
   "execution_count": null,
   "metadata": {},
   "outputs": [],
   "source": [
    "#Mann-Whitney U Test ob sich die Höhe der Proben signifikant unterscheidet.\n",
    "from scipy.stats import mannwhitneyu\n",
    "stat, p = mannwhitneyu(df.Height_CM_Conv, df.Height_CM_Bio)\n",
    "print('Statistics={}, p={:.3}'.format(stat, p))\n",
    "alpha = 0.05\n",
    "if p > alpha:\n",
    "\tprint('Same distribution (fail to reject H0)')\n",
    "else:\n",
    "\tprint('Different distribution, one group is bigger than the other (reject H0)')"
   ]
  },
  {
   "cell_type": "code",
   "execution_count": null,
   "metadata": {
    "scrolled": true
   },
   "outputs": [],
   "source": [
    "#Mann-Whitney U Test ob sich das Gewicht der Proben signifikant unterscheidet.\n",
    "from scipy.stats import mannwhitneyu\n",
    "stat, p = mannwhitneyu(df.Weight_KG_Conv, df.Weight_KG_Bio)\n",
    "print('Statistics={}, p={:.3}'.format(stat, p))\n",
    "alpha = 0.05\n",
    "if p > alpha:\n",
    "\tprint('Same distribution (fail to reject H0)')\n",
    "else:\n",
    "\tprint('Different distribution (reject H0)')"
   ]
  },
  {
   "cell_type": "code",
   "execution_count": null,
   "metadata": {},
   "outputs": [],
   "source": [
    "#Mann-Whitney U Test für den Unkraut Anteil.\n",
    "from scipy.stats import mannwhitneyu\n",
    "stat, p = mannwhitneyu(df.Weed_Conv, df.Weed_Bio , alternative=\"two-sided\")\n",
    "print('Statistics={}, p={:.3}'.format(stat, p))\n",
    "alpha = 0.05\n",
    "if p > alpha:\n",
    "\tprint('Same distribution (fail to reject H0)')\n",
    "else:\n",
    "\tprint('Different distribution (reject H0)')"
   ]
  },
  {
   "cell_type": "code",
   "execution_count": null,
   "metadata": {
    "scrolled": false
   },
   "outputs": [],
   "source": [
    "import rpy2\n",
    "print(rpy2.__version__)\n",
    "%load_ext rpy2.ipython"
   ]
  },
  {
   "cell_type": "code",
   "execution_count": null,
   "metadata": {
    "scrolled": false
   },
   "outputs": [],
   "source": [
    "%%R -i df -w 900 -h 450 -u px\n",
    "\n",
    "## Everything in here is ** R ** (magic)\n",
    "\n",
    "#print(df) # Tada, df is now an R dataframe\n",
    "\n",
    "wilcox.test(df$Weight_KG_Conv, df$Weight_KG_Bio,paired = FALSE, alternative=\"greater\")\n",
    "#wilcox.test(df$Height_CM_Conv, df$Height_CM_Bio, paired = TRUE)\n",
    "\n",
    "#t.test(df$Weight_KG_Conv, df$Weight_KG_Bio, paired = TRUE)"
   ]
  },
  {
   "cell_type": "code",
   "execution_count": null,
   "metadata": {},
   "outputs": [],
   "source": [
    "0.1298/2"
   ]
  },
  {
   "cell_type": "code",
   "execution_count": null,
   "metadata": {
    "scrolled": true
   },
   "outputs": [],
   "source": [
    "from scipy.stats import ttest_ind\n",
    "stat, p = ttest_ind(data1, data2)\n",
    "from scipy.stats import wilcoxon\n",
    "wilcoxon(df.Weight_KG_Conv, df.Weight_KG_Bio)"
   ]
  },
  {
   "cell_type": "code",
   "execution_count": null,
   "metadata": {},
   "outputs": [],
   "source": [
    "plt.figure?"
   ]
  },
  {
   "cell_type": "code",
   "execution_count": null,
   "metadata": {
    "scrolled": true
   },
   "outputs": [],
   "source": [
    "x = df.Weight_KG_Conv\n",
    "y = df.Weight_KG_Bio\n",
    "\n",
    "data = [x,y]\n",
    "\n",
    "plt.figure()\n",
    "plt.boxplot(data, showmeans=True, meanline=True, notch=True, bootstrap=1000)\n",
    "# creating background points is a bit tricky\n",
    "for i in range(len(data)):                                    # für jedes i in der Reichweite der länge von data\n",
    "    jitter_y = data[i]                                        # y values are the data points\n",
    "    jitter_x = np.random.normal(i+1,0.04, size=len(jitter_y)) # x values are the number of the box and some noise\n",
    "    plt.scatter(jitter_x,jitter_y, alpha=0.3)                 # makre sure to make jitter transparent\n",
    "plt.show()\n"
   ]
  },
  {
   "cell_type": "code",
   "execution_count": null,
   "metadata": {},
   "outputs": [],
   "source": [
    "x = df.Height_CM_Conv\n",
    "y = df.Height_CM_Bio\n",
    "\n",
    "data = [x,y]\n",
    "\n",
    "plt.figure()\n",
    "plt.boxplot(data, showmeans=True, meanline=True, notch=True, bootstrap=1000)\n",
    "# creating background points is a bit tricky\n",
    "for i in range(len(data)):                                    # für jedes i in der Reichweite der länge von data\n",
    "    jitter_y = data[i]                                        # y values are the data points\n",
    "    jitter_x = np.random.normal(i+1,0.04, size=len(jitter_y)) # x values are the number of the box and some noise\n",
    "    plt.scatter(jitter_x,jitter_y, alpha=0.3)                 # makre sure to make jitter transparent\n",
    "plt.show()"
   ]
  },
  {
   "cell_type": "code",
   "execution_count": null,
   "metadata": {},
   "outputs": [],
   "source": [
    "print(data)"
   ]
  }
 ],
 "metadata": {
  "kernelspec": {
   "display_name": "Python 3",
   "language": "python",
   "name": "python3"
  },
  "language_info": {
   "codemirror_mode": {
    "name": "ipython",
    "version": 3
   },
   "file_extension": ".py",
   "mimetype": "text/x-python",
   "name": "python",
   "nbconvert_exporter": "python",
   "pygments_lexer": "ipython3",
   "version": "3.6.6"
  }
 },
 "nbformat": 4,
 "nbformat_minor": 2
}
